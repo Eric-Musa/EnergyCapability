{
 "cells": [
  {
   "cell_type": "markdown",
   "source": [
    "# How to run reV Locally\n",
    "\n",
    "[reV Gen](https://nrel.github.io/reV/reV/reV.generation.generation.html#reV.generation.generation.Gen) and [reV Econ](https://nrel.github.io/reV/reV/reV.econ.econ.html#reV.econ.econ.Econ) can be run locally using resource .h5 files stored locally or using the [HDF Groups](https://www.hdfgroup.org) Highly Scalable Distributed Service (HSDS) to access resource .h5 file stored in the cloud (currenly on Amazon Web Services -- AWS).\n",
    "\n",
    "reV use [PySAM](https://pysam.readthedocs.io/en/latest/) to\n",
    "compute technologically specific capcity factor means and profiles (`Gen`) and mean levelized cost of energy (`Econ`). `reV`\n",
    "uses ``SAM`` technology terms and input configuration files. \n",
    "\n",
    "There are examples below and also in the reV generation class documentation [here](https://nrel.github.io/reV/reV/reV.generation.generation.html#reV.generation.generation.Gen).\n",
    "\n",
    "NOTE: In all of these examples, the ``sam_file`` input points to files in\n",
    "the reV test directory [`TESTDATADIR`](https://github.com/NREL/reV/tree/master/tests/data) that may not be copied in your install. You may want to download the relevant SAM system configs from that directory and point the ``sam_file`` variable to the correct filepath on your computer."
   ],
   "metadata": {}
  },
  {
   "cell_type": "markdown",
   "source": [
    "## Running reV Gen+Econ\n",
    "### Locally\n",
    "\n",
    "NOTE: as with the `sam_file` path metioned above, the `res_file` path references files in reVs `TESTDATADIR` you might need to download them from [github](https://github.com/NREL/reV/tree/main/tests/data) and point the `res_file` variable to the correct file path on your computer.\n",
    "\n",
    "#### windpower\n",
    "\n",
    "Compute wind capacity factors for a given set of latitude and longitude\n",
    "coordinates:"
   ],
   "metadata": {}
  },
  {
   "cell_type": "code",
   "execution_count": 89,
   "source": [
    "PVW5 = 'pvwattsv5'\r\n",
    "PVW7 = 'pvwattsv7'\r\n",
    "PVS1 = 'pvsamv1'\r\n",
    "TCSMS = 'tcsmoltensalt'\r\n",
    "SOLWH = 'solarwaterheat'\r\n",
    "TROPH = 'troughphysicalheat'\r\n",
    "LINDS = 'lineardirectsteam'\r\n",
    "WIND = 'windpower'\r\n",
    "WAVE = 'mhkwave'\r\n",
    "\r\n",
    "SOLAR_TECH = [PVW5, PVW7, PVS1, TCSMS, SOLWH, TROPH, LINDS]\r\n",
    "WIND_TECH = [WIND]\r\n",
    "WAVE_TECH = [WAVE]\r\n",
    "\r\n",
    "ALL_TECH = {\r\n",
    "    'solar': SOLAR_TECH,\r\n",
    "    'wind': WIND_TECH,\r\n",
    "    'wave': WAVE_TECH\r\n",
    "}\r\n",
    "\r\n",
    "TECH_NAMES = {\r\n",
    "    PVW5: 'Photovoltaic', \r\n",
    "    PVW7: 'Photovoltaic', \r\n",
    "    PVS1: 'Photovoltaic', \r\n",
    "    TCSMS: 'Molten Salt', \r\n",
    "    SOLWH: 'Solar Water Heat', \r\n",
    "    TROPH: 'Trough Phys. Heat', \r\n",
    "    LINDS: 'Linear Direct Steam', \r\n",
    "    WIND: 'Wind Power', \r\n",
    "    WAVE: 'Wave Power'\r\n",
    "}\r\n"
   ],
   "outputs": [],
   "metadata": {}
  },
  {
   "cell_type": "code",
   "execution_count": 96,
   "source": [
    "import os\r\n",
    "import numpy as np\r\n",
    "from reV import TESTDATADIR\r\n",
    "from reV.config.project_points import ProjectPoints\r\n",
    "from reV.generation.generation import Gen\r\n",
    "\r\n",
    "lat_lons = np.array([[ 41.25, -71.66],\r\n",
    "                     [ 41.05, -71.74],\r\n",
    "                     [ 41.97, -71.78],\r\n",
    "                     [ 41.65, -71.74],\r\n",
    "                     [ 41.25, -71.7 ],\r\n",
    "                     [ 41.05, -71.78]])\r\n",
    "\r\n",
    "res_file = os.path.join(TESTDATADIR, 'wtk/ri_100_wtk_2012.h5')\r\n",
    "sam_file = os.path.join(TESTDATADIR,\r\n",
    "                            'SAM/wind_gen_standard_losses_0.json')\r\n",
    "\r\n",
    "pp = ProjectPoints.lat_lon_coords(lat_lons, res_file, sam_file)\r\n",
    "gen = Gen.reV_run('windpower', pp, sam_file, res_file,\r\n",
    "                    max_workers=1, out_fpath=None,\r\n",
    "                    output_request=('cf_mean', 'cf_profile'))  # Capacity Factor\r\n",
    "display(gen.out['cf_mean'])\r\n",
    "display(gen.out['cf_profile'])"
   ],
   "outputs": [
    {
     "output_type": "stream",
     "name": "stderr",
     "text": [
      "WARNING: points are not in sequential order and will be sorted! The original order is being preserved under column \"points_order\"\n",
      "d:\\projects\\python\\energycapability\\rev\\reV\\config\\project_points.py:581: UserWarning: WARNING: points are not in sequential order and will be sorted! The original order is being preserved under column \"points_order\"\n",
      "  warn(msg)\n",
      "It appears old SAM v1 keys are being used. Updated key \"wind_farm_losses_percent\" to \"turb_generic_loss\".\n",
      "d:\\projects\\python\\energycapability\\rev\\reV\\SAM\\version_checker.py:101: PySAMVersionWarning: It appears old SAM v1 keys are being used. Updated key \"wind_farm_losses_percent\" to \"turb_generic_loss\".\n",
      "  warn(m, PySAMVersionWarning)\n"
     ]
    },
    {
     "output_type": "display_data",
     "data": {
      "text/plain": [
       "array([0.35720587, 0.37741643, 0.500766  , 0.48840794, 0.50351036,\n",
       "       0.4890139 ], dtype=float32)"
      ]
     },
     "metadata": {}
    },
    {
     "output_type": "display_data",
     "data": {
      "text/plain": [
       "array([[0.319, 0.485, 0.6  , 0.543, 0.579, 0.486],\n",
       "       [0.382, 0.444, 0.288, 0.562, 0.339, 0.601],\n",
       "       [0.696, 0.398, 0.5  , 0.656, 0.466, 0.677],\n",
       "       ...,\n",
       "       [0.833, 0.833, 0.833, 0.833, 0.833, 0.833],\n",
       "       [0.782, 0.833, 0.833, 0.833, 0.833, 0.833],\n",
       "       [0.756, 0.833, 0.833, 0.833, 0.833, 0.833]], dtype=float32)"
      ]
     },
     "metadata": {}
    }
   ],
   "metadata": {}
  },
  {
   "cell_type": "code",
   "execution_count": 104,
   "source": [
    "%%capture\r\n",
    "import pandas as pd\r\n",
    "results = []\r\n",
    "\r\n",
    "lat_lons = np.array([[41.25, -71.66],\r\n",
    "                     [41.05, -71.74],\r\n",
    "                     [41.97, -71.78],\r\n",
    "                     [41.65, -71.74],\r\n",
    "                     [41.25, -71.7],\r\n",
    "                     [41.05, -71.78]])\r\n",
    "\r\n",
    "res_file = os.path.join(TESTDATADIR, 'wtk/ri_100_wtk_2012.h5')\r\n",
    "\r\n",
    "sam_files = {\r\n",
    "    'solar': ,\r\n",
    "    'wind': 'SAM/wind_gen_standard_losses_0.json',\r\n",
    "    'wave': \r\n",
    "}\r\n",
    "for tech_type, tech_list in ALL_TECH.items():\r\n",
    "    sam_file = os.path.join(TESTDATADIR, sam_files[tech_type])\r\n",
    "    pp = ProjectPoints.lat_lon_coords(lat_lons, res_file, sam_file)\r\n",
    "    gen = Gen.reV_run(tech, pp, sam_file, res_file,\r\n",
    "                    max_workers=1, out_fpath=None,\r\n",
    "                    output_request=('annual_energy',))  # ('cf_mean', 'cf_profile'))\r\n",
    "    results.append(gen.out)\r\n",
    "\r\n"
   ],
   "outputs": [],
   "metadata": {}
  },
  {
   "cell_type": "code",
   "execution_count": 130,
   "source": [
    "import matplotlib.pyplot as plt\r\n",
    "KWH_TO_GWH = 1e-6\r\n",
    "data = np.array([_['annual_energy'] * KWH_TO_GWH for _ in results])[0]\r\n",
    "plt.bar(list(range(len(data))), data, label='Wind Power Gen')\r\n",
    "plt.ylim([0, 8.])\r\n",
    "plt.ylabel('Energy Generation (GWh)')\r\n",
    "plt.xlabel('location index')\r\n",
    "plt.legend()\r\n"
   ],
   "outputs": [
    {
     "output_type": "execute_result",
     "data": {
      "text/plain": [
       "<matplotlib.legend.Legend at 0x1ad35f16160>"
      ]
     },
     "metadata": {},
     "execution_count": 130
    },
    {
     "output_type": "display_data",
     "data": {
      "image/png": "[encoded data removed]",
      "text/plain": [
       "<Figure size 432x288 with 1 Axes>"
      ]
     },
     "metadata": {}
    }
   ],
   "metadata": {}
  },
  {
   "cell_type": "code",
   "execution_count": 92,
   "source": [
    "cf_means = np.array([_['cf_mean'] for _ in results])\r\n",
    "cf_profile = np.array([_['cf_profile'] for _ in results])\r\n",
    "DUPLICATES = [PVW5, PVW7]\r\n",
    "cf_data = pd.DataFrame({TECH_NAMES[tech]: cf_means[i] for i, tech in enumerate(\r\n",
    "    WIND_TECH) if tech not in DUPLICATES})\r\n",
    "\r\n",
    "cf_data.plot.bar(stacked=True)\r\n"
   ],
   "outputs": [
    {
     "output_type": "execute_result",
     "data": {
      "text/plain": [
       "<AxesSubplot:>"
      ]
     },
     "metadata": {},
     "execution_count": 92
    },
    {
     "output_type": "display_data",
     "data": {
      "image/png": "[encoded data removed]",
      "text/plain": [
       "<Figure size 432x288 with 1 Axes>"
      ]
     },
     "metadata": {}
    }
   ],
   "metadata": {}
  },
  {
   "cell_type": "code",
   "execution_count": 70,
   "source": [],
   "outputs": [
    {
     "output_type": "execute_result",
     "data": {
      "text/plain": [
       "0    2.500441\n",
       "1    2.641915\n",
       "2    3.505362\n",
       "3    3.418855\n",
       "4    3.524573\n",
       "5    3.423097\n",
       "dtype: float32"
      ]
     },
     "metadata": {},
     "execution_count": 70
    }
   ],
   "metadata": {}
  },
  {
   "cell_type": "markdown",
   "source": [
    "### pvwatts\n",
    "\n",
    "NOTE: ``pvwattsv5`` and ``pvwattsv7`` are both available from reV.\n",
    "\n",
    "Compute pv capacity factors and lcoe for all resource gids in Rhode Island:"
   ],
   "metadata": {}
  },
  {
   "cell_type": "code",
   "execution_count": null,
   "source": [
    "import os\r\n",
    "from reV import TESTDATADIR\r\n",
    "from reV.config.project_points import ProjectPoints\r\n",
    "from reV.generation.generation import Gen\r\n",
    "\r\n",
    "regions = {'Rhode Island': 'state'}\r\n",
    "\r\n",
    "res_file = os.path.join(TESTDATADIR, 'nsrdb/', 'ri_100_nsrdb_2012.h5')\r\n",
    "sam_file = os.path.join(TESTDATADIR, 'SAM/naris_pv_1axis_inv13.json')\r\n",
    "\r\n",
    "pp = ProjectPoints.regions(regions, res_file, sam_file)\r\n",
    "gen = Gen.reV_run('pvwattsv5', pp, sam_file, res_file,\r\n",
    "                    max_workers=1, out_fpath=None,\r\n",
    "                    output_request=('cf_mean', 'cf_profile', 'lcoe_fcr'))\r\n",
    "display(gen.out['cf_mean'])\r\n",
    "display(gen.out['lcoe_fcr'])"
   ],
   "outputs": [],
   "metadata": {}
  },
  {
   "cell_type": "markdown",
   "source": [
    "## Running Econ from an existing Generation file\n",
    "\n",
    "While the most efficient way to run reV is to compute generation and econ outputs in SAM at the same time, reV can compute SAM derived Economic outputs from an existing reV Generation output stored in a .h5 file."
   ],
   "metadata": {}
  },
  {
   "cell_type": "code",
   "execution_count": null,
   "source": [
    "import os\r\n",
    "from reV import TESTDATADIR\r\n",
    "from reV.config.project_points import ProjectPoints\r\n",
    "from reV.econ.econ import Econ\r\n",
    "\r\n",
    "cf_file = os.path.join(TESTDATADIR,\r\n",
    "                        'gen_out/gen_ri_pv_2012_x000.h5')\r\n",
    "sam_files = os.path.join(TESTDATADIR,\r\n",
    "                            'SAM/i_lcoe_naris_pv_1axis_inv13.json')\r\n",
    "\r\n",
    "points = slice(0, 100)\r\n",
    "econ = Econ.reV_run(points, sam_files, cf_file,\r\n",
    "                   year=2012, output_request='lcoe_fcr',\r\n",
    "                   max_workers=1, sites_per_worker=25,\r\n",
    "                   points_range=None, out_fpath=None)\r\n",
    "\r\n",
    "display(econ.out['lcoe_fcr'])"
   ],
   "outputs": [],
   "metadata": {}
  }
 ],
 "metadata": {
  "hide_input": false,
  "interpreter": {
   "hash": "bdfda7ad198194e3736af5956c6b509c5ddba2f1f4f166b5e6902126bb2ae6c0"
  },
  "kernelspec": {
   "name": "python3",
   "display_name": "Python 3.8.11 64-bit ('energy': conda)"
  },
  "language_info": {
   "codemirror_mode": {
    "name": "ipython",
    "version": 3
   },
   "file_extension": ".py",
   "mimetype": "text/x-python",
   "name": "python",
   "nbconvert_exporter": "python",
   "pygments_lexer": "ipython3",
   "version": "3.8.11"
  },
  "toc": {
   "base_numbering": 1,
   "nav_menu": {},
   "number_sections": true,
   "sideBar": true,
   "skip_h1_title": false,
   "title_cell": "Table of Contents",
   "title_sidebar": "Contents",
   "toc_cell": false,
   "toc_position": {},
   "toc_section_display": true,
   "toc_window_display": false
  },
  "varInspector": {
   "cols": {
    "lenName": 16,
    "lenType": 16,
    "lenVar": 40
   },
   "kernels_config": {
    "python": {
     "delete_cmd_postfix": "",
     "delete_cmd_prefix": "del ",
     "library": "var_list.py",
     "varRefreshCmd": "print(var_dic_list())"
    },
    "r": {
     "delete_cmd_postfix": ") ",
     "delete_cmd_prefix": "rm(",
     "library": "var_list.r",
     "varRefreshCmd": "cat(var_dic_list()) "
    }
   },
   "types_to_exclude": [
    "module",
    "function",
    "builtin_function_or_method",
    "instance",
    "_Feature"
   ],
   "window_display": false
  }
 },
 "nbformat": 4,
 "nbformat_minor": 4
}